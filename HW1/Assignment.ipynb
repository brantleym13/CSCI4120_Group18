{
 "cells": [
  {
   "cell_type": "code",
   "execution_count": 1,
   "metadata": {},
   "outputs": [],
   "source": [
    "# importing necessary libraries\n",
    "import pandas as pd\n",
    "from sklearn.model_selection import cross_validate\n",
    "from sklearn.neighbors import KNeighborsClassifier\n",
    "from sklearn.metrics import accuracy_score\n",
    "import matplotlib.pyplot as plt"
   ]
  },
  {
   "cell_type": "code",
   "execution_count": 2,
   "metadata": {},
   "outputs": [],
   "source": [
    "# reading the dataset\n",
    "data = pd.read_csv('https://raw.githubusercontent.com/ruiwu1990/CSCI_4120/master/KNN/iris.data', header = None)"
   ]
  },
  {
   "cell_type": "code",
   "execution_count": 3,
   "metadata": {},
   "outputs": [
    {
     "data": {
      "text/html": [
       "<div>\n",
       "<style scoped>\n",
       "    .dataframe tbody tr th:only-of-type {\n",
       "        vertical-align: middle;\n",
       "    }\n",
       "\n",
       "    .dataframe tbody tr th {\n",
       "        vertical-align: top;\n",
       "    }\n",
       "\n",
       "    .dataframe thead th {\n",
       "        text-align: right;\n",
       "    }\n",
       "</style>\n",
       "<table border=\"1\" class=\"dataframe\">\n",
       "  <thead>\n",
       "    <tr style=\"text-align: right;\">\n",
       "      <th></th>\n",
       "      <th>0</th>\n",
       "      <th>1</th>\n",
       "      <th>2</th>\n",
       "      <th>3</th>\n",
       "      <th>4</th>\n",
       "    </tr>\n",
       "  </thead>\n",
       "  <tbody>\n",
       "    <tr>\n",
       "      <th>0</th>\n",
       "      <td>5.1</td>\n",
       "      <td>3.5</td>\n",
       "      <td>1.4</td>\n",
       "      <td>0.2</td>\n",
       "      <td>Iris-setosa</td>\n",
       "    </tr>\n",
       "    <tr>\n",
       "      <th>1</th>\n",
       "      <td>4.9</td>\n",
       "      <td>3.0</td>\n",
       "      <td>1.4</td>\n",
       "      <td>0.2</td>\n",
       "      <td>Iris-setosa</td>\n",
       "    </tr>\n",
       "    <tr>\n",
       "      <th>2</th>\n",
       "      <td>4.7</td>\n",
       "      <td>3.2</td>\n",
       "      <td>1.3</td>\n",
       "      <td>0.2</td>\n",
       "      <td>Iris-setosa</td>\n",
       "    </tr>\n",
       "    <tr>\n",
       "      <th>3</th>\n",
       "      <td>4.6</td>\n",
       "      <td>3.1</td>\n",
       "      <td>1.5</td>\n",
       "      <td>0.2</td>\n",
       "      <td>Iris-setosa</td>\n",
       "    </tr>\n",
       "    <tr>\n",
       "      <th>4</th>\n",
       "      <td>5.0</td>\n",
       "      <td>3.6</td>\n",
       "      <td>1.4</td>\n",
       "      <td>0.2</td>\n",
       "      <td>Iris-setosa</td>\n",
       "    </tr>\n",
       "  </tbody>\n",
       "</table>\n",
       "</div>"
      ],
      "text/plain": [
       "     0    1    2    3            4\n",
       "0  5.1  3.5  1.4  0.2  Iris-setosa\n",
       "1  4.9  3.0  1.4  0.2  Iris-setosa\n",
       "2  4.7  3.2  1.3  0.2  Iris-setosa\n",
       "3  4.6  3.1  1.5  0.2  Iris-setosa\n",
       "4  5.0  3.6  1.4  0.2  Iris-setosa"
      ]
     },
     "execution_count": 3,
     "metadata": {},
     "output_type": "execute_result"
    }
   ],
   "source": [
    "# displaying top 5 rows of the dataset\n",
    "data.head()"
   ]
  },
  {
   "cell_type": "code",
   "execution_count": 4,
   "metadata": {},
   "outputs": [],
   "source": [
    "# splitting the dataset into features, X and labels, y\n",
    "X = data.iloc[:, :4]\n",
    "y = data.iloc[:, 4]"
   ]
  },
  {
   "cell_type": "code",
   "execution_count": 5,
   "metadata": {},
   "outputs": [
    {
     "name": "stdout",
     "output_type": "stream",
     "text": [
      "Average Test Accuracy of KNN Model for k = 1 : 0.96\n",
      "Average Test Accuracy of KNN Model for k = 2 : 0.9466666666666665\n",
      "Average Test Accuracy of KNN Model for k = 3 : 0.9666666666666668\n",
      "Average Test Accuracy of KNN Model for k = 4 : 0.9733333333333334\n",
      "Average Test Accuracy of KNN Model for k = 5 : 0.9733333333333334\n",
      "Average Test Accuracy of KNN Model for k = 6 : 0.9800000000000001\n",
      "Average Test Accuracy of KNN Model for k = 7 : 0.9800000000000001\n",
      "Average Test Accuracy of KNN Model for k = 8 : 0.9666666666666668\n",
      "Average Test Accuracy of KNN Model for k = 9 : 0.9733333333333334\n",
      "Average Test Accuracy of KNN Model for k = 10 : 0.9800000000000001\n",
      "Average Test Accuracy of KNN Model for k = 11 : 0.9800000000000001\n",
      "Average Test Accuracy of KNN Model for k = 12 : 0.9800000000000001\n",
      "Average Test Accuracy of KNN Model for k = 13 : 0.9733333333333334\n",
      "Average Test Accuracy of KNN Model for k = 14 : 0.9666666666666666\n",
      "Average Test Accuracy of KNN Model for k = 15 : 0.9666666666666668\n",
      "Average Test Accuracy of KNN Model for k = 16 : 0.9666666666666668\n",
      "Average Test Accuracy of KNN Model for k = 17 : 0.9666666666666668\n",
      "Average Test Accuracy of KNN Model for k = 18 : 0.9666666666666666\n",
      "Average Test Accuracy of KNN Model for k = 19 : 0.9666666666666668\n",
      "Average Test Accuracy of KNN Model for k = 20 : 0.96\n"
     ]
    }
   ],
   "source": [
    "avg_test_accuracies = [] # list to keep track of all the test accuracies for every value of k from 1 to 20 (both inclusive)\n",
    "for k in range(1, 21):\n",
    "    model = KNeighborsClassifier(n_neighbors = k) # instantiating the KNN Model\n",
    "    \n",
    "    cross_val_results = cross_validate(estimator = model, \n",
    "                                       X = X, \n",
    "                                       y = y,\n",
    "                                       scoring = 'accuracy', \n",
    "                                       cv = 5) # performing KNN 5 times by 5-Fold Cross Validation\n",
    "    \n",
    "    avg_test_accuracy = cross_val_results['test_score'].mean() # calculating the average test accuracy for each value of k\n",
    "    print('Average Test Accuracy of KNN Model for k = ' + str(k) + ' :', avg_test_accuracy)\n",
    "    avg_test_accuracies.append(avg_test_accuracy)"
   ]
  },
  {
   "cell_type": "code",
   "execution_count": 6,
   "metadata": {},
   "outputs": [
    {
     "name": "stdout",
     "output_type": "stream",
     "text": [
      "Best value of k i.e., least value of k yielding highest test accuracy:  6\n"
     ]
    }
   ],
   "source": [
    "best_k = avg_test_accuracies.index(max(avg_test_accuracies)) + 1 # finding the least value of k yielding highest test accuracy\n",
    "print('Best value of k i.e., least value of k yielding highest test accuracy: ', best_k)"
   ]
  },
  {
   "cell_type": "code",
   "execution_count": 7,
   "metadata": {},
   "outputs": [
    {
     "data": {
      "image/png": "[encoded data removed]",
      "text/plain": [
       "<Figure size 1440x576 with 1 Axes>"
      ]
     },
     "metadata": {
      "needs_background": "light"
     },
     "output_type": "display_data"
    }
   ],
   "source": [
    "# line chart showing the Test Accuracy vs k plot\n",
    "plt.figure(figsize = (20, 8))\n",
    "k_values = [k for k in range(1, 21)]\n",
    "plt.plot(k_values, avg_test_accuracies)\n",
    "plt.xticks(k_values)\n",
    "plt.xlabel('k')\n",
    "plt.ylabel('Test Accuracy')\n",
    "plt.title('Test Accuracy vs k')\n",
    "plt.show()"
   ]
  }
 ],
 "metadata": {
  "kernelspec": {
   "display_name": "Python 3",
   "language": "python",
   "name": "python3"
  },
  "language_info": {
   "codemirror_mode": {
    "name": "ipython",
    "version": 3
   },
   "file_extension": ".py",
   "mimetype": "text/x-python",
   "name": "python",
   "nbconvert_exporter": "python",
   "pygments_lexer": "ipython3",
   "version": "3.8.5"
  }
 },
 "nbformat": 4,
 "nbformat_minor": 4
}
